{
 "cells": [
  {
   "cell_type": "code",
   "execution_count": 1,
   "id": "76999a84",
   "metadata": {},
   "outputs": [],
   "source": [
    "import torch\n",
    "import torch.nn as nn\n",
    "import torchvision.models as models\n",
    "from torchvision.models import resnet50\n",
    "from torchvision.datasets import ImageFolder\n",
    "import torchvision.transforms as transforms\n",
    "from sklearn.preprocessing import LabelEncoder\n",
    "from torch.utils.data import DataLoader, Dataset\n",
    "import PIL\n",
    "from PIL import Image\n",
    "import pandas as pd\n",
    "import numpy as np\n",
    "from numpy import uint8\n",
    "import matplotlib.pyplot as plt\n",
    "\n",
    "from torchcontrib.optim import SWA\n",
    "from copy import deepcopy\n",
    "from tqdm import tqdm"
   ]
  },
  {
   "cell_type": "code",
   "execution_count": 2,
   "id": "023615df",
   "metadata": {},
   "outputs": [],
   "source": [
    "# Create a custom classification model\n",
    "class MRIModel(nn.Module):\n",
    "    def __init__(self, num_classes):\n",
    "        super(MRIModel, self).__init__()\n",
    "        self.pretrained_model = models.resnet50(pretrained=True)\n",
    "        self.fc = nn.Linear(2048, num_classes)  # Modify the input size based on the pretrained model's output\n",
    "        \n",
    "    def forward(self, x):\n",
    "        x = self.pretrained_model(x)\n",
    "        x = x.view(x.size(0), -1)\n",
    "        x = self.fc(x)\n",
    "        return x"
   ]
  },
  {
   "cell_type": "code",
   "execution_count": 3,
   "id": "de2693e9",
   "metadata": {},
   "outputs": [],
   "source": [
    "net = resnet50(pretrained = True)\n",
    "modelOutFeats = net.fc.in_features\n",
    "device = torch.device(torch.device(\"cuda:0\" if torch.cuda.is_available() else \"cpu\"))\n",
    "net.fc = nn.Sequential(\n",
    "               nn.Linear(modelOutFeats, 128),\n",
    "               nn.ReLU(inplace=True),\n",
    "               nn.Linear(128, 2)).to(device)\n",
    "\n",
    "net = net.to(device)"
   ]
  },
  {
   "cell_type": "code",
   "execution_count": 4,
   "id": "89019020",
   "metadata": {},
   "outputs": [
    {
     "ename": "NameError",
     "evalue": "name 'data' is not defined",
     "output_type": "error",
     "traceback": [
      "\u001b[0;31m---------------------------------------------------------------------------\u001b[0m",
      "\u001b[0;31mNameError\u001b[0m                                 Traceback (most recent call last)",
      "\u001b[0;32m<ipython-input-4-304fa4ce4ebd>\u001b[0m in \u001b[0;36m<module>\u001b[0;34m\u001b[0m\n\u001b[0;32m----> 1\u001b[0;31m \u001b[0mdata\u001b[0m\u001b[0;34m.\u001b[0m\u001b[0mhead\u001b[0m\u001b[0;34m(\u001b[0m\u001b[0;34m)\u001b[0m\u001b[0;34m\u001b[0m\u001b[0;34m\u001b[0m\u001b[0m\n\u001b[0m",
      "\u001b[0;31mNameError\u001b[0m: name 'data' is not defined"
     ]
    }
   ],
   "source": [
    "#data.head()"
   ]
  },
  {
   "cell_type": "code",
   "execution_count": 7,
   "id": "b242723b",
   "metadata": {},
   "outputs": [
    {
     "name": "stdout",
     "output_type": "stream",
     "text": [
      "Training samples: 4151\n",
      "Testing samples: 925\n",
      "Development samples: 922\n"
     ]
    }
   ],
   "source": [
    "## load data \n",
    "import pandas as pd\n",
    "data = pd.read_csv('/sc/arion/projects/shenl03_ml/2023_adriana_bc_risk/Mirai_test/Mirai/data/mssm_mammogram_metadata_for_mirai_w_device.csv')\n",
    "data.head()\n",
    "\n",
    "# Split the data based on the split_group column\n",
    "train_data = data[data['split_group'] == 'train']\n",
    "test_data = data[data['split_group'] == 'test']\n",
    "dev_data = data[data['split_group'] == 'dev']\n",
    "\n",
    "# Split the data into features (image paths) and labels\n",
    "train_paths = train_data['file_path'].tolist()\n",
    "train_labels = train_data['device_name'].tolist()\n",
    "\n",
    "test_paths = test_data['file_path'].tolist()\n",
    "test_labels = test_data['device_name'].tolist()\n",
    "\n",
    "dev_paths = dev_data['file_path'].tolist()\n",
    "dev_labels = dev_data['device_name'].tolist()\n",
    "\n",
    "# Print the number of samples in each split\n",
    "print(\"Training samples:\", len(train_paths)) #4151\n",
    "print(\"Testing samples:\", len(test_paths)) #925\n",
    "print(\"Development samples:\", len(dev_paths)) #925"
   ]
  },
  {
   "cell_type": "code",
   "execution_count": 8,
   "id": "52ecc832",
   "metadata": {},
   "outputs": [],
   "source": [
    "# Define the custom dataset class\n",
    "class CustomDataset(Dataset):\n",
    "    def __init__(self, image_paths, labels, transform=None):\n",
    "        self.image_paths = image_paths\n",
    "        self.labels = labels\n",
    "        self.transform = transform\n",
    "        \n",
    "    def __len__(self):\n",
    "        return len(self.image_paths)\n",
    "    \n",
    "    def __getitem__(self, index):\n",
    "        \n",
    "        image_path = self.image_paths[index]\n",
    "        image = PIL.Image.open(image_path)\n",
    "        image_arr = np.array(PIL.Image.open(image_path), dtype = float)\n",
    "        image_arr = image_arr * 255 / image_arr.max()\n",
    "        image_arr = image_arr.astype(uint8)\n",
    "        image_t = Image.fromarray(image_arr)\n",
    "\n",
    "        label = self.labels[index]\n",
    "        #label = torch.tensor(label, dtype=torch.int64)\n",
    "        \n",
    "        if self.transform:\n",
    "            image = self.transform(image_t)\n",
    "        \n",
    "        return image, label"
   ]
  },
  {
   "cell_type": "code",
   "execution_count": 9,
   "id": "f65763ba",
   "metadata": {},
   "outputs": [],
   "source": [
    "# Define the transformation to apply to the images\n",
    "transform = transforms.Compose([\n",
    "    transforms.Resize((224, 224)),\n",
    "    transforms.RandomHorizontalFlip(p=0.25),\n",
    "    transforms.RandomVerticalFlip(p=0.25),\n",
    "    transforms.RandomRotation(degrees=(0,180)),\n",
    "    #transforms.GaussianBlur(kernel_size=(5, 9)), #test this\n",
    "    #transforms.RandomPerspective(distortion_scale=0.6, p=1.0), #test this\n",
    "    transforms.ToTensor(), \n",
    "    transforms.Lambda(lambda x: x.repeat(3,1,1)),\n",
    "    transforms.ConvertImageDtype(torch.float),\n",
    "    #transforms.Normalize(mean=[0.485, 0.456, 0.406], std=[0.229, 0.224, 0.225]), #this makes the data -2 to 2 scale\n",
    "    transforms.Normalize(mean=[0.4490, 0.4490, 0.4490], std=[0.3236, 0.3236, 0.3236]) #these are the true mean and std\n",
    "]) \n",
    "\n",
    "validation_transform = transforms.Compose([\n",
    "    transforms.ToTensor(),\n",
    "    transforms.Resize((224, 224)),\n",
    "    transforms.Lambda(lambda x: x.repeat(3,1,1)),\n",
    "    transforms.ConvertImageDtype(torch.float), #https://pytorch.org/vision/stable/generated/torchvision.transforms.Compose.html#torchvision.transforms.Compose\n",
    "    #transforms.Normalize(mean=[0.485, 0.456, 0.406], std=[0.229, 0.224, 0.225]),\n",
    "    transforms.Normalize(mean=[0.4490, 0.4490, 0.4490], std=[0.3236, 0.3236, 0.3236])\n",
    "])"
   ]
  },
  {
   "cell_type": "code",
   "execution_count": 10,
   "id": "b85af37d",
   "metadata": {},
   "outputs": [],
   "source": [
    "from sklearn.preprocessing import LabelEncoder\n",
    "\n",
    "# Create a label encoder instance\n",
    "label_encoder = LabelEncoder()\n",
    "\n",
    "# Fit the label encoder on the combined labels\n",
    "all_labels = train_labels + test_labels + dev_labels\n",
    "label_encoder.fit(all_labels)\n",
    "\n",
    "# Map the string labels to numerical values\n",
    "train_labels_encoded = label_encoder.transform(train_labels)\n",
    "test_labels_encoded = label_encoder.transform(test_labels)\n",
    "dev_labels_encoded = label_encoder.transform(dev_labels)"
   ]
  },
  {
   "cell_type": "code",
   "execution_count": 11,
   "id": "83679d64",
   "metadata": {},
   "outputs": [
    {
     "name": "stdout",
     "output_type": "stream",
     "text": [
      "torch.Size([3, 224, 224])\n"
     ]
    },
    {
     "data": {
      "image/png": "[encoded data removed]",
      "text/plain": [
       "<Figure size 432x288 with 1 Axes>"
      ]
     },
     "metadata": {
      "needs_background": "light"
     },
     "output_type": "display_data"
    }
   ],
   "source": [
    "# Create custom datasets\n",
    "train_dataset = CustomDataset(train_paths, train_labels_encoded, transform=transform)\n",
    "test_dataset = CustomDataset(test_paths, test_labels_encoded, transform=validation_transform)\n",
    "dev_dataset = CustomDataset(dev_paths, dev_labels_encoded, transform=validation_transform)\n",
    "\n",
    "image, label = train_dataset[1]\n",
    "image\n",
    "plt.imshow(image.numpy()[0], cmap='gray')\n",
    "label, image.size()\n",
    "print(image.size())"
   ]
  },
  {
   "cell_type": "code",
   "execution_count": 12,
   "id": "9fa0cb80",
   "metadata": {},
   "outputs": [],
   "source": [
    "# Define the batch size for training and testing\n",
    "batch_size = 64\n",
    "\n",
    "# Create data loaders\n",
    "train_loader = DataLoader(train_dataset, batch_size=batch_size, shuffle=True)\n",
    "test_loader = DataLoader(test_dataset, batch_size=batch_size, shuffle=False)\n",
    "dev_loader = DataLoader(dev_dataset, batch_size=batch_size, shuffle=False)"
   ]
  },
  {
   "cell_type": "code",
   "execution_count": 13,
   "id": "ac72bd76",
   "metadata": {},
   "outputs": [
    {
     "name": "stdout",
     "output_type": "stream",
     "text": [
      "len 65\n",
      "types: <class 'torch.Tensor'> <class 'torch.Tensor'>\n",
      "shapes: torch.Size([64, 3, 224, 224]) torch.Size([64])\n"
     ]
    },
    {
     "data": {
      "text/plain": [
       "tensor(0)"
      ]
     },
     "execution_count": 13,
     "metadata": {},
     "output_type": "execute_result"
    }
   ],
   "source": [
    "batch = next(iter(train_loader))\n",
    "print('len', len(train_loader))\n",
    "images, labels = batch\n",
    "print('types:', type(images), type(labels))\n",
    "print('shapes:', images.shape, labels.shape)\n",
    "images[0].shape\n",
    "labels[0]"
   ]
  },
  {
   "cell_type": "code",
   "execution_count": 14,
   "id": "bb7cc3c4",
   "metadata": {},
   "outputs": [
    {
     "name": "stderr",
     "output_type": "stream",
     "text": [
      "65it [09:29,  8.76s/it]                        \n",
      "/hpc/packages/minerva-centos7/py_packages/3.7/lib/python3.7/site-packages/torch/optim/lr_scheduler.py:143: UserWarning: Detected call of `lr_scheduler.step()` before `optimizer.step()`. In PyTorch 1.1.0 and later, you should call them in the opposite order: `optimizer.step()` before `lr_scheduler.step()`.  Failure to do this will result in PyTorch skipping the first value of the learning rate schedule. See more details at https://pytorch.org/docs/stable/optim.html#how-to-adjust-learning-rate\n",
      "  \"https://pytorch.org/docs/stable/optim.html#how-to-adjust-learning-rate\", UserWarning)\n"
     ]
    },
    {
     "name": "stdout",
     "output_type": "stream",
     "text": [
      "Train Accuracy and loss: 0.9407371717658396 0.16327549270712413\n"
     ]
    },
    {
     "name": "stderr",
     "output_type": "stream",
     "text": [
      "15it [02:03,  8.21s/it]                        \n"
     ]
    },
    {
     "name": "stdout",
     "output_type": "stream",
     "text": [
      "Validation Accuracy and Loss: 0.9501084598698482 0.13086742659409842\n",
      "Saving better model\n"
     ]
    },
    {
     "name": "stderr",
     "output_type": "stream",
     "text": [
      "65it [07:36,  7.02s/it]                        \n"
     ]
    },
    {
     "name": "stdout",
     "output_type": "stream",
     "text": [
      "Train Accuracy and loss: 0.9590460130089136 0.11807601226923557\n"
     ]
    },
    {
     "name": "stderr",
     "output_type": "stream",
     "text": [
      "15it [01:34,  6.31s/it]                        \n"
     ]
    },
    {
     "name": "stdout",
     "output_type": "stream",
     "text": [
      "Validation Accuracy and Loss: 0.7581344902386117 0.6891092697779337\n"
     ]
    },
    {
     "name": "stderr",
     "output_type": "stream",
     "text": [
      "65it [07:31,  6.94s/it]                        \n"
     ]
    },
    {
     "name": "stdout",
     "output_type": "stream",
     "text": [
      "Train Accuracy and loss: 0.9744639845820284 0.08041869106774147\n"
     ]
    },
    {
     "name": "stderr",
     "output_type": "stream",
     "text": [
      "15it [01:39,  6.66s/it]                        \n"
     ]
    },
    {
     "name": "stdout",
     "output_type": "stream",
     "text": [
      "Validation Accuracy and Loss: 0.9164859002169198 0.26421826283137\n"
     ]
    },
    {
     "name": "stderr",
     "output_type": "stream",
     "text": [
      "65it [07:48,  7.20s/it]                        \n"
     ]
    },
    {
     "name": "stdout",
     "output_type": "stream",
     "text": [
      "Train Accuracy and loss: 0.9732594555528788 0.0788352040717235\n"
     ]
    },
    {
     "name": "stderr",
     "output_type": "stream",
     "text": [
      "15it [01:36,  6.46s/it]                        \n"
     ]
    },
    {
     "name": "stdout",
     "output_type": "stream",
     "text": [
      "Validation Accuracy and Loss: 0.6626898047722343 1.0847958286603292\n"
     ]
    },
    {
     "name": "stderr",
     "output_type": "stream",
     "text": [
      "65it [07:34,  6.99s/it]                        \n"
     ]
    },
    {
     "name": "stdout",
     "output_type": "stream",
     "text": [
      "Train Accuracy and loss: 0.9759094194170079 0.07293135298129458\n"
     ]
    },
    {
     "name": "stderr",
     "output_type": "stream",
     "text": [
      "15it [01:36,  6.43s/it]                        \n"
     ]
    },
    {
     "name": "stdout",
     "output_type": "stream",
     "text": [
      "Validation Accuracy and Loss: 0.5162689804772235 1.886605974038442\n"
     ]
    },
    {
     "name": "stderr",
     "output_type": "stream",
     "text": [
      "65it [07:43,  7.13s/it]                        \n"
     ]
    },
    {
     "name": "stdout",
     "output_type": "stream",
     "text": [
      "Train Accuracy and loss: 0.9775957600578173 0.07122673315640826\n"
     ]
    },
    {
     "name": "stderr",
     "output_type": "stream",
     "text": [
      "15it [01:43,  6.91s/it]                        \n"
     ]
    },
    {
     "name": "stdout",
     "output_type": "stream",
     "text": [
      "Validation Accuracy and Loss: 0.6800433839479393 0.7030761539936066\n"
     ]
    },
    {
     "name": "stderr",
     "output_type": "stream",
     "text": [
      "65it [07:53,  7.28s/it]                        \n"
     ]
    },
    {
     "name": "stdout",
     "output_type": "stream",
     "text": [
      "Train Accuracy and loss: 0.9780775716694773 0.06532463531654614\n"
     ]
    },
    {
     "name": "stderr",
     "output_type": "stream",
     "text": [
      "15it [01:40,  6.73s/it]                        \n"
     ]
    },
    {
     "name": "stdout",
     "output_type": "stream",
     "text": [
      "Validation Accuracy and Loss: 0.46203904555314534 1.196158023675283\n"
     ]
    },
    {
     "name": "stderr",
     "output_type": "stream",
     "text": [
      "65it [07:49,  7.22s/it]                        \n"
     ]
    },
    {
     "name": "stdout",
     "output_type": "stream",
     "text": [
      "Train Accuracy and loss: 0.9785593832811371 0.06719286985552082\n"
     ]
    },
    {
     "name": "stderr",
     "output_type": "stream",
     "text": [
      "15it [01:40,  6.71s/it]                        \n"
     ]
    },
    {
     "name": "stdout",
     "output_type": "stream",
     "text": [
      "Validation Accuracy and Loss: 0.4370932754880694 1.9775669654210408\n"
     ]
    },
    {
     "name": "stderr",
     "output_type": "stream",
     "text": [
      "65it [07:43,  7.13s/it]                        \n"
     ]
    },
    {
     "name": "stdout",
     "output_type": "stream",
     "text": [
      "Train Accuracy and loss: 0.9771139484461575 0.06417412722769839\n"
     ]
    },
    {
     "name": "stderr",
     "output_type": "stream",
     "text": [
      "15it [01:36,  6.46s/it]                        \n"
     ]
    },
    {
     "name": "stdout",
     "output_type": "stream",
     "text": [
      "Validation Accuracy and Loss: 0.9078091106290672 0.2665699109435081\n"
     ]
    },
    {
     "name": "stderr",
     "output_type": "stream",
     "text": [
      "65it [07:35,  7.01s/it]                        \n"
     ]
    },
    {
     "name": "stdout",
     "output_type": "stream",
     "text": [
      "Train Accuracy and loss: 0.9804866297277764 0.05309811616674639\n"
     ]
    },
    {
     "name": "stderr",
     "output_type": "stream",
     "text": [
      "15it [01:35,  6.39s/it]                        "
     ]
    },
    {
     "name": "stdout",
     "output_type": "stream",
     "text": [
      "Validation Accuracy and Loss: 0.4164859002169197 1.8042956352233888\n"
     ]
    },
    {
     "name": "stderr",
     "output_type": "stream",
     "text": [
      "\n"
     ]
    }
   ],
   "source": [
    "import torch.optim as optim\n",
    "from torch.optim.swa_utils import AveragedModel, SWALR\n",
    "import torchcontrib\n",
    "from torch.optim.lr_scheduler import CosineAnnealingLR\n",
    "\n",
    "net_final = deepcopy(net)\n",
    "\n",
    "loss_fn = nn.CrossEntropyLoss()\n",
    "\n",
    "#Adam \n",
    "optimizer = torch.optim.Adam(net.parameters(), lr=1e-3, betas = (0.9, 0.99), weight_decay=1e-4) #Adam\n",
    "scheduler = CosineAnnealingLR(optimizer, T_max=32)\n",
    "\n",
    "optimizer = torch.optim.Adam(net.parameters())\n",
    "\n",
    "n_epochs =  10\n",
    "\n",
    "top_accuracy_val = 0\n",
    "train_acc_all = [] #visualization\n",
    "train_losses = []\n",
    "val_acc_all = []\n",
    "validation_losses = []\n",
    "\n",
    "for epoch in range(n_epochs):\n",
    "    \n",
    "    net.train() #.train -- parameters can be changed \n",
    "    \n",
    "    # train accuracy = number correct / total trained \n",
    "    total_trained = 0\n",
    "\n",
    "    # the number of examples classified correctly\n",
    "    correct = 0\n",
    "    \n",
    "    #total to iterate through\n",
    "    total = len(train_dataset)//batch_size #int division\n",
    "    \n",
    "    running_loss = 0\n",
    "    #tqdm - progress bar \n",
    "    for batch_index, (inputs, target) in tqdm(enumerate(train_loader), total=total):\n",
    "      # load the data onto the computation device.\n",
    "    \n",
    "        inputs, target = inputs.to(device), target.to(device)\n",
    "        \n",
    "            \n",
    "        optimizer.zero_grad() #set gradients to 0 at each iteration (default: adding up)\n",
    "        pred = net(inputs.float()) #predictions --> floats\n",
    "        #loss = loss_fn(pred, target) #backprop \n",
    "        loss = loss_fn(pred, target)#.backward()\n",
    "        loss.backward()\n",
    "        #running_loss += loss.item()\n",
    "\n",
    "        optimizer.step() #adjust parameters collected in backward pass\n",
    "        \n",
    "        #optimizer.first_step()\n",
    "        loss_fn(net(inputs.float()), target).backward()\n",
    "        #optimizer.second_step()\n",
    "        running_loss += loss.item()\n",
    "        \n",
    "        \n",
    "        \n",
    "        #Prediction\n",
    "        _, pred_class = pred.max(1) #max value \n",
    "        total_trained += pred_class.size(0)\n",
    "        correct += pred_class.eq(target).sum().item() #take item()\n",
    "    \n",
    "    scheduler.step()\n",
    "\n",
    "    train_loss=running_loss/len(train_loader)\n",
    "    train_losses.append(train_loss)\n",
    "    accuracy = correct / total_trained\n",
    "    train_acc_all.append(accuracy)\n",
    "    print(\"Train Accuracy and loss: {}\".format(accuracy), train_loss)\n",
    "        \n",
    "    #validation \n",
    "    best_val_acc = 0\n",
    "    net.eval() \n",
    "    total_validated = 0\n",
    "\n",
    "    # the number of examples classified correctly\n",
    "    correct = 0\n",
    "    running_loss_validation = 0\n",
    "\n",
    "    #total to iterate through\n",
    "    total = len(dev_dataset)//batch_size #int division\n",
    "\n",
    "    with torch.no_grad():\n",
    "        for batch_index, (inputs, target) in tqdm(enumerate(dev_loader), total=total):\n",
    "\n",
    "            inputs = inputs.to(device) #load data \n",
    "            target = target.to(device)\n",
    "            \n",
    "            #Prediction and Loss\n",
    "            pred = net(inputs.float()) #predictions --> floats\n",
    "            #pred = swa_model(inputs.float())\n",
    "            loss = loss_fn(pred, target)\n",
    "            running_loss_validation += loss.item()\n",
    "            \n",
    "            _, pred_class = pred.max(1) #max value \n",
    "            total_validated += pred_class.size(0)\n",
    "            correct += pred_class.eq(target).sum().item() #take item()\n",
    "\n",
    "    val_accuracy = correct / total_validated\n",
    "    val_acc_all.append(val_accuracy)\n",
    "    validation_loss=running_loss_validation/len(dev_loader)\n",
    "    validation_losses.append(validation_loss)\n",
    "    print(\"Validation Accuracy and Loss: {}\".format(val_accuracy), validation_loss)\n",
    "    \n",
    "    #Saving the best model\n",
    "    if val_accuracy > top_accuracy_val: \n",
    "        print(\"Saving better model\")\n",
    "        top_accuracy_val = val_accuracy\n",
    "        net_best_saved = deepcopy(net)\n",
    "        #Save model \n",
    "        torch.save(net, '/sc/arion/projects/shenl03_ml/2023_adriana_bc_risk/Mirai_test/Mirai/model_resnet_mri_device_classifier.pth')\n",
    "        "
   ]
  },
  {
   "cell_type": "code",
   "execution_count": null,
   "id": "7c905453",
   "metadata": {},
   "outputs": [],
   "source": [
    "  #Saving the best model\n",
    "    if val_accuracy > top_accuracy_val: \n",
    "        print(\"Better model\")\n",
    "        top_accuracy_val = val_accuracy\n",
    "        net_best_saved = deepcopy(net)\n",
    "        #Save model \n",
    "        torch.save(net, '/sc/arion/projects/shenl03_ml/2023_adriana_bc_risk/ML_2022/model_resnet_weights_128_batch.pth')"
   ]
  },
  {
   "cell_type": "code",
   "execution_count": null,
   "id": "d0159610",
   "metadata": {},
   "outputs": [],
   "source": []
  }
 ],
 "metadata": {
  "kernelspec": {
   "display_name": "Python 3",
   "language": "python",
   "name": "python3"
  },
  "language_info": {
   "codemirror_mode": {
    "name": "ipython",
    "version": 3
   },
   "file_extension": ".py",
   "mimetype": "text/x-python",
   "name": "python",
   "nbconvert_exporter": "python",
   "pygments_lexer": "ipython3",
   "version": "3.7.3"
  }
 },
 "nbformat": 4,
 "nbformat_minor": 5
}
